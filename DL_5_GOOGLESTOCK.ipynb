{
  "nbformat": 4,
  "nbformat_minor": 0,
  "metadata": {
    "colab": {
      "provenance": [],
      "gpuType": "T4",
      "authorship_tag": "ABX9TyMcLSF52rzh3OT39O5KV9rO",
      "include_colab_link": true
    },
    "kernelspec": {
      "name": "python3",
      "display_name": "Python 3"
    },
    "language_info": {
      "name": "python"
    },
    "accelerator": "GPU",
    "gpuClass": "standard"
  },
  "cells": [
    {
      "cell_type": "markdown",
      "metadata": {
        "id": "view-in-github",
        "colab_type": "text"
      },
      "source": [
        "<a href=\"https://colab.research.google.com/github/dipakjagtap29/hd/blob/main/DL_5_GOOGLESTOCK.ipynb\" target=\"_parent\"><img src=\"https://colab.research.google.com/assets/colab-badge.svg\" alt=\"Open In Colab\"/></a>"
      ]
    },
    {
      "cell_type": "code",
      "source": [
        "# Importing Necessary Packages\n",
        "import numpy as np\n",
        "import pandas as pd \n",
        "import matplotlib.pyplot as plt\n",
        "import tensorflow as tf\n",
        "from tensorflow.keras import layers"
      ],
      "metadata": {
        "id": "jb7OtrV4mgd6"
      },
      "execution_count": 28,
      "outputs": []
    },
    {
      "cell_type": "code",
      "source": [
        "import numpy as np\n",
        "import pandas as pd\n",
        "import matplotlib.pyplot as plt\n",
        "from sklearn.preprocessing import MinMaxScaler\n",
        "from keras.models import Sequential\n",
        "from keras.layers import Dense, LSTM"
      ],
      "metadata": {
        "id": "thuR_qyrqbR1"
      },
      "execution_count": 47,
      "outputs": []
    },
    {
      "cell_type": "code",
      "source": [
        "from google.colab import files\n",
        "uploaded = files.upload()"
      ],
      "metadata": {
        "colab": {
          "base_uri": "https://localhost:8080/",
          "height": 73
        },
        "id": "7bXdb5aduZgK",
        "outputId": "40dc036b-6708-496d-c942-ea54babcc6f9"
      },
      "execution_count": 51,
      "outputs": [
        {
          "output_type": "display_data",
          "data": {
            "text/plain": [
              "<IPython.core.display.HTML object>"
            ],
            "text/html": [
              "\n",
              "     <input type=\"file\" id=\"files-7c909ecc-e5a0-4e8d-831e-a99ad55fca6b\" name=\"files[]\" multiple disabled\n",
              "        style=\"border:none\" />\n",
              "     <output id=\"result-7c909ecc-e5a0-4e8d-831e-a99ad55fca6b\">\n",
              "      Upload widget is only available when the cell has been executed in the\n",
              "      current browser session. Please rerun this cell to enable.\n",
              "      </output>\n",
              "      <script>// Copyright 2017 Google LLC\n",
              "//\n",
              "// Licensed under the Apache License, Version 2.0 (the \"License\");\n",
              "// you may not use this file except in compliance with the License.\n",
              "// You may obtain a copy of the License at\n",
              "//\n",
              "//      http://www.apache.org/licenses/LICENSE-2.0\n",
              "//\n",
              "// Unless required by applicable law or agreed to in writing, software\n",
              "// distributed under the License is distributed on an \"AS IS\" BASIS,\n",
              "// WITHOUT WARRANTIES OR CONDITIONS OF ANY KIND, either express or implied.\n",
              "// See the License for the specific language governing permissions and\n",
              "// limitations under the License.\n",
              "\n",
              "/**\n",
              " * @fileoverview Helpers for google.colab Python module.\n",
              " */\n",
              "(function(scope) {\n",
              "function span(text, styleAttributes = {}) {\n",
              "  const element = document.createElement('span');\n",
              "  element.textContent = text;\n",
              "  for (const key of Object.keys(styleAttributes)) {\n",
              "    element.style[key] = styleAttributes[key];\n",
              "  }\n",
              "  return element;\n",
              "}\n",
              "\n",
              "// Max number of bytes which will be uploaded at a time.\n",
              "const MAX_PAYLOAD_SIZE = 100 * 1024;\n",
              "\n",
              "function _uploadFiles(inputId, outputId) {\n",
              "  const steps = uploadFilesStep(inputId, outputId);\n",
              "  const outputElement = document.getElementById(outputId);\n",
              "  // Cache steps on the outputElement to make it available for the next call\n",
              "  // to uploadFilesContinue from Python.\n",
              "  outputElement.steps = steps;\n",
              "\n",
              "  return _uploadFilesContinue(outputId);\n",
              "}\n",
              "\n",
              "// This is roughly an async generator (not supported in the browser yet),\n",
              "// where there are multiple asynchronous steps and the Python side is going\n",
              "// to poll for completion of each step.\n",
              "// This uses a Promise to block the python side on completion of each step,\n",
              "// then passes the result of the previous step as the input to the next step.\n",
              "function _uploadFilesContinue(outputId) {\n",
              "  const outputElement = document.getElementById(outputId);\n",
              "  const steps = outputElement.steps;\n",
              "\n",
              "  const next = steps.next(outputElement.lastPromiseValue);\n",
              "  return Promise.resolve(next.value.promise).then((value) => {\n",
              "    // Cache the last promise value to make it available to the next\n",
              "    // step of the generator.\n",
              "    outputElement.lastPromiseValue = value;\n",
              "    return next.value.response;\n",
              "  });\n",
              "}\n",
              "\n",
              "/**\n",
              " * Generator function which is called between each async step of the upload\n",
              " * process.\n",
              " * @param {string} inputId Element ID of the input file picker element.\n",
              " * @param {string} outputId Element ID of the output display.\n",
              " * @return {!Iterable<!Object>} Iterable of next steps.\n",
              " */\n",
              "function* uploadFilesStep(inputId, outputId) {\n",
              "  const inputElement = document.getElementById(inputId);\n",
              "  inputElement.disabled = false;\n",
              "\n",
              "  const outputElement = document.getElementById(outputId);\n",
              "  outputElement.innerHTML = '';\n",
              "\n",
              "  const pickedPromise = new Promise((resolve) => {\n",
              "    inputElement.addEventListener('change', (e) => {\n",
              "      resolve(e.target.files);\n",
              "    });\n",
              "  });\n",
              "\n",
              "  const cancel = document.createElement('button');\n",
              "  inputElement.parentElement.appendChild(cancel);\n",
              "  cancel.textContent = 'Cancel upload';\n",
              "  const cancelPromise = new Promise((resolve) => {\n",
              "    cancel.onclick = () => {\n",
              "      resolve(null);\n",
              "    };\n",
              "  });\n",
              "\n",
              "  // Wait for the user to pick the files.\n",
              "  const files = yield {\n",
              "    promise: Promise.race([pickedPromise, cancelPromise]),\n",
              "    response: {\n",
              "      action: 'starting',\n",
              "    }\n",
              "  };\n",
              "\n",
              "  cancel.remove();\n",
              "\n",
              "  // Disable the input element since further picks are not allowed.\n",
              "  inputElement.disabled = true;\n",
              "\n",
              "  if (!files) {\n",
              "    return {\n",
              "      response: {\n",
              "        action: 'complete',\n",
              "      }\n",
              "    };\n",
              "  }\n",
              "\n",
              "  for (const file of files) {\n",
              "    const li = document.createElement('li');\n",
              "    li.append(span(file.name, {fontWeight: 'bold'}));\n",
              "    li.append(span(\n",
              "        `(${file.type || 'n/a'}) - ${file.size} bytes, ` +\n",
              "        `last modified: ${\n",
              "            file.lastModifiedDate ? file.lastModifiedDate.toLocaleDateString() :\n",
              "                                    'n/a'} - `));\n",
              "    const percent = span('0% done');\n",
              "    li.appendChild(percent);\n",
              "\n",
              "    outputElement.appendChild(li);\n",
              "\n",
              "    const fileDataPromise = new Promise((resolve) => {\n",
              "      const reader = new FileReader();\n",
              "      reader.onload = (e) => {\n",
              "        resolve(e.target.result);\n",
              "      };\n",
              "      reader.readAsArrayBuffer(file);\n",
              "    });\n",
              "    // Wait for the data to be ready.\n",
              "    let fileData = yield {\n",
              "      promise: fileDataPromise,\n",
              "      response: {\n",
              "        action: 'continue',\n",
              "      }\n",
              "    };\n",
              "\n",
              "    // Use a chunked sending to avoid message size limits. See b/62115660.\n",
              "    let position = 0;\n",
              "    do {\n",
              "      const length = Math.min(fileData.byteLength - position, MAX_PAYLOAD_SIZE);\n",
              "      const chunk = new Uint8Array(fileData, position, length);\n",
              "      position += length;\n",
              "\n",
              "      const base64 = btoa(String.fromCharCode.apply(null, chunk));\n",
              "      yield {\n",
              "        response: {\n",
              "          action: 'append',\n",
              "          file: file.name,\n",
              "          data: base64,\n",
              "        },\n",
              "      };\n",
              "\n",
              "      let percentDone = fileData.byteLength === 0 ?\n",
              "          100 :\n",
              "          Math.round((position / fileData.byteLength) * 100);\n",
              "      percent.textContent = `${percentDone}% done`;\n",
              "\n",
              "    } while (position < fileData.byteLength);\n",
              "  }\n",
              "\n",
              "  // All done.\n",
              "  yield {\n",
              "    response: {\n",
              "      action: 'complete',\n",
              "    }\n",
              "  };\n",
              "}\n",
              "\n",
              "scope.google = scope.google || {};\n",
              "scope.google.colab = scope.google.colab || {};\n",
              "scope.google.colab._files = {\n",
              "  _uploadFiles,\n",
              "  _uploadFilesContinue,\n",
              "};\n",
              "})(self);\n",
              "</script> "
            ]
          },
          "metadata": {}
        },
        {
          "output_type": "stream",
          "name": "stdout",
          "text": [
            "Saving GOOGL.csv to GOOGL.csv\n"
          ]
        }
      ]
    },
    {
      "cell_type": "code",
      "source": [
        "# Load the dataset\n",
        "dataset = pd.read_csv('GOOGL.csv', index_col='Date', parse_dates=['Date'])"
      ],
      "metadata": {
        "id": "ZpBFpXWgujWf"
      },
      "execution_count": 52,
      "outputs": []
    },
    {
      "cell_type": "code",
      "source": [
        "# Split the dataset into training and testing sets\n",
        "train_set = dataset[:'2018'].iloc[:, 1:2].values\n",
        "test_set = dataset['2019':].iloc[:, 1:2].values"
      ],
      "metadata": {
        "id": "qhQ3IJENutMZ"
      },
      "execution_count": 54,
      "outputs": []
    },
    {
      "cell_type": "code",
      "source": [
        "# Normalize the dataset\n",
        "sc = MinMaxScaler(feature_range=(0, 1))\n",
        "train_set_scaled = sc.fit_transform(train_set)"
      ],
      "metadata": {
        "id": "jd_XJqKFuyEY"
      },
      "execution_count": 55,
      "outputs": []
    },
    {
      "cell_type": "code",
      "source": [
        "# Create a function to generate a sliding window of data\n",
        "def create_dataset(dataset, look_back=60):\n",
        "    X, Y = [], []\n",
        "    for i in range(look_back, len(dataset)):\n",
        "        X.append(dataset[i-look_back:i, 0])\n",
        "        Y.append(dataset[i, 0])\n",
        "    X, Y = np.array(X), np.array(Y)\n",
        "    X = np.reshape(X, (X.shape[0], X.shape[1], 1))\n",
        "    return X, Y"
      ],
      "metadata": {
        "id": "ZrzjZlDju2XE"
      },
      "execution_count": 56,
      "outputs": []
    },
    {
      "cell_type": "code",
      "source": [
        "# Generate the training and testing datasets\n",
        "look_back = 60\n",
        "X_train, Y_train = create_dataset(train_set_scaled, look_back)\n",
        "X_test, Y_test = create_dataset(test_set, look_back)"
      ],
      "metadata": {
        "id": "0z_cF0w2u9Pz"
      },
      "execution_count": 57,
      "outputs": []
    },
    {
      "cell_type": "code",
      "source": [
        "# Build the RNN model\n",
        "model = Sequential()\n",
        "model.add(LSTM(units=50, return_sequences=True, input_shape=(X_train.shape[1], 1)))\n",
        "model.add(LSTM(units=50))\n",
        "model.add(Dense(units=1))\n",
        "model.compile(optimizer='adam', loss='mean_squared_error')"
      ],
      "metadata": {
        "id": "jdbNEYfJvBS2"
      },
      "execution_count": 58,
      "outputs": []
    },
    {
      "cell_type": "code",
      "source": [
        "# Train the RNN model\n",
        "model.fit(X_train, Y_train, epochs=100, batch_size=32)"
      ],
      "metadata": {
        "colab": {
          "base_uri": "https://localhost:8080/"
        },
        "id": "SoRtWQrBvDGQ",
        "outputId": "963cbbfe-4980-4450-b5a3-e9fdfcba2281"
      },
      "execution_count": 59,
      "outputs": [
        {
          "output_type": "stream",
          "name": "stdout",
          "text": [
            "Epoch 1/100\n",
            "112/112 [==============================] - 6s 8ms/step - loss: 0.0033\n",
            "Epoch 2/100\n",
            "112/112 [==============================] - 1s 13ms/step - loss: 2.3956e-04\n",
            "Epoch 3/100\n",
            "112/112 [==============================] - 1s 10ms/step - loss: 2.4563e-04\n",
            "Epoch 4/100\n",
            "112/112 [==============================] - 1s 10ms/step - loss: 2.2271e-04\n",
            "Epoch 5/100\n",
            "112/112 [==============================] - 1s 11ms/step - loss: 2.2405e-04\n",
            "Epoch 6/100\n",
            "112/112 [==============================] - 1s 10ms/step - loss: 2.0727e-04\n",
            "Epoch 7/100\n",
            "112/112 [==============================] - 1s 7ms/step - loss: 2.1439e-04\n",
            "Epoch 8/100\n",
            "112/112 [==============================] - 1s 7ms/step - loss: 1.9891e-04\n",
            "Epoch 9/100\n",
            "112/112 [==============================] - 1s 7ms/step - loss: 1.8965e-04\n",
            "Epoch 10/100\n",
            "112/112 [==============================] - 1s 8ms/step - loss: 1.8456e-04\n",
            "Epoch 11/100\n",
            "112/112 [==============================] - 1s 8ms/step - loss: 1.7909e-04\n",
            "Epoch 12/100\n",
            "112/112 [==============================] - 1s 7ms/step - loss: 2.0570e-04\n",
            "Epoch 13/100\n",
            "112/112 [==============================] - 1s 7ms/step - loss: 1.5689e-04\n",
            "Epoch 14/100\n",
            "112/112 [==============================] - 1s 8ms/step - loss: 1.7791e-04\n",
            "Epoch 15/100\n",
            "112/112 [==============================] - 1s 8ms/step - loss: 1.8986e-04\n",
            "Epoch 16/100\n",
            "112/112 [==============================] - 1s 8ms/step - loss: 1.6329e-04\n",
            "Epoch 17/100\n",
            "112/112 [==============================] - 1s 8ms/step - loss: 1.5868e-04\n",
            "Epoch 18/100\n",
            "112/112 [==============================] - 1s 10ms/step - loss: 1.2954e-04\n",
            "Epoch 19/100\n",
            "112/112 [==============================] - 1s 11ms/step - loss: 1.3013e-04\n",
            "Epoch 20/100\n",
            "112/112 [==============================] - 1s 11ms/step - loss: 1.3004e-04\n",
            "Epoch 21/100\n",
            "112/112 [==============================] - 1s 10ms/step - loss: 1.1486e-04\n",
            "Epoch 22/100\n",
            "112/112 [==============================] - 1s 8ms/step - loss: 1.1930e-04\n",
            "Epoch 23/100\n",
            "112/112 [==============================] - 1s 8ms/step - loss: 1.2874e-04\n",
            "Epoch 24/100\n",
            "112/112 [==============================] - 1s 8ms/step - loss: 9.7218e-05\n",
            "Epoch 25/100\n",
            "112/112 [==============================] - 1s 7ms/step - loss: 1.3355e-04\n",
            "Epoch 26/100\n",
            "112/112 [==============================] - 1s 8ms/step - loss: 9.5105e-05\n",
            "Epoch 27/100\n",
            "112/112 [==============================] - 1s 8ms/step - loss: 8.8193e-05\n",
            "Epoch 28/100\n",
            "112/112 [==============================] - 1s 7ms/step - loss: 9.1220e-05\n",
            "Epoch 29/100\n",
            "112/112 [==============================] - 1s 8ms/step - loss: 9.7476e-05\n",
            "Epoch 30/100\n",
            "112/112 [==============================] - 1s 8ms/step - loss: 9.2130e-05\n",
            "Epoch 31/100\n",
            "112/112 [==============================] - 1s 7ms/step - loss: 8.5399e-05\n",
            "Epoch 32/100\n",
            "112/112 [==============================] - 1s 7ms/step - loss: 6.9054e-05\n",
            "Epoch 33/100\n",
            "112/112 [==============================] - 1s 10ms/step - loss: 6.7904e-05\n",
            "Epoch 34/100\n",
            "112/112 [==============================] - 1s 10ms/step - loss: 7.5654e-05\n",
            "Epoch 35/100\n",
            "112/112 [==============================] - 1s 11ms/step - loss: 6.8288e-05\n",
            "Epoch 36/100\n",
            "112/112 [==============================] - 1s 10ms/step - loss: 6.2136e-05\n",
            "Epoch 37/100\n",
            "112/112 [==============================] - 1s 7ms/step - loss: 5.5577e-05\n",
            "Epoch 38/100\n",
            "112/112 [==============================] - 1s 7ms/step - loss: 6.3071e-05\n",
            "Epoch 39/100\n",
            "112/112 [==============================] - 1s 7ms/step - loss: 5.2657e-05\n",
            "Epoch 40/100\n",
            "112/112 [==============================] - 1s 7ms/step - loss: 7.4217e-05\n",
            "Epoch 41/100\n",
            "112/112 [==============================] - 1s 8ms/step - loss: 6.1440e-05\n",
            "Epoch 42/100\n",
            "112/112 [==============================] - 1s 7ms/step - loss: 5.1372e-05\n",
            "Epoch 43/100\n",
            "112/112 [==============================] - 1s 8ms/step - loss: 7.9946e-05\n",
            "Epoch 44/100\n",
            "112/112 [==============================] - 1s 8ms/step - loss: 4.9542e-05\n",
            "Epoch 45/100\n",
            "112/112 [==============================] - 1s 7ms/step - loss: 5.1755e-05\n",
            "Epoch 46/100\n",
            "112/112 [==============================] - 1s 7ms/step - loss: 4.9599e-05\n",
            "Epoch 47/100\n",
            "112/112 [==============================] - 1s 7ms/step - loss: 5.8696e-05\n",
            "Epoch 48/100\n",
            "112/112 [==============================] - 1s 9ms/step - loss: 6.9657e-05\n",
            "Epoch 49/100\n",
            "112/112 [==============================] - 2s 17ms/step - loss: 5.7707e-05\n",
            "Epoch 50/100\n",
            "112/112 [==============================] - 2s 17ms/step - loss: 5.7235e-05\n",
            "Epoch 51/100\n",
            "112/112 [==============================] - 1s 9ms/step - loss: 5.3134e-05\n",
            "Epoch 52/100\n",
            "112/112 [==============================] - 1s 8ms/step - loss: 5.3239e-05\n",
            "Epoch 53/100\n",
            "112/112 [==============================] - 1s 8ms/step - loss: 4.9993e-05\n",
            "Epoch 54/100\n",
            "112/112 [==============================] - 1s 7ms/step - loss: 4.8337e-05\n",
            "Epoch 55/100\n",
            "112/112 [==============================] - 1s 7ms/step - loss: 4.2784e-05\n",
            "Epoch 56/100\n",
            "112/112 [==============================] - 1s 8ms/step - loss: 4.6034e-05\n",
            "Epoch 57/100\n",
            "112/112 [==============================] - 1s 8ms/step - loss: 6.0043e-05\n",
            "Epoch 58/100\n",
            "112/112 [==============================] - 1s 8ms/step - loss: 4.7526e-05\n",
            "Epoch 59/100\n",
            "112/112 [==============================] - 1s 7ms/step - loss: 4.2388e-05\n",
            "Epoch 60/100\n",
            "112/112 [==============================] - 1s 8ms/step - loss: 4.6850e-05\n",
            "Epoch 61/100\n",
            "112/112 [==============================] - 1s 7ms/step - loss: 4.4401e-05\n",
            "Epoch 62/100\n",
            "112/112 [==============================] - 1s 8ms/step - loss: 7.3140e-05\n",
            "Epoch 63/100\n",
            "112/112 [==============================] - 1s 11ms/step - loss: 4.6143e-05\n",
            "Epoch 64/100\n",
            "112/112 [==============================] - 1s 11ms/step - loss: 5.3078e-05\n",
            "Epoch 65/100\n",
            "112/112 [==============================] - 1s 11ms/step - loss: 5.1040e-05\n",
            "Epoch 66/100\n",
            "112/112 [==============================] - 1s 9ms/step - loss: 4.6422e-05\n",
            "Epoch 67/100\n",
            "112/112 [==============================] - 1s 8ms/step - loss: 5.9443e-05\n",
            "Epoch 68/100\n",
            "112/112 [==============================] - 1s 7ms/step - loss: 4.1883e-05\n",
            "Epoch 69/100\n",
            "112/112 [==============================] - 1s 8ms/step - loss: 4.6307e-05\n",
            "Epoch 70/100\n",
            "112/112 [==============================] - 1s 7ms/step - loss: 5.0427e-05\n",
            "Epoch 71/100\n",
            "112/112 [==============================] - 1s 7ms/step - loss: 4.6451e-05\n",
            "Epoch 72/100\n",
            "112/112 [==============================] - 1s 7ms/step - loss: 5.5790e-05\n",
            "Epoch 73/100\n",
            "112/112 [==============================] - 1s 7ms/step - loss: 5.1501e-05\n",
            "Epoch 74/100\n",
            "112/112 [==============================] - 1s 7ms/step - loss: 4.5120e-05\n",
            "Epoch 75/100\n",
            "112/112 [==============================] - 1s 8ms/step - loss: 4.5831e-05\n",
            "Epoch 76/100\n",
            "112/112 [==============================] - 1s 7ms/step - loss: 6.4092e-05\n",
            "Epoch 77/100\n",
            "112/112 [==============================] - 1s 7ms/step - loss: 5.0522e-05\n",
            "Epoch 78/100\n",
            "112/112 [==============================] - 1s 10ms/step - loss: 4.6114e-05\n",
            "Epoch 79/100\n",
            "112/112 [==============================] - 1s 11ms/step - loss: 5.1679e-05\n",
            "Epoch 80/100\n",
            "112/112 [==============================] - 1s 10ms/step - loss: 5.7317e-05\n",
            "Epoch 81/100\n",
            "112/112 [==============================] - 1s 11ms/step - loss: 4.1355e-05\n",
            "Epoch 82/100\n",
            "112/112 [==============================] - 1s 9ms/step - loss: 5.6464e-05\n",
            "Epoch 83/100\n",
            "112/112 [==============================] - 1s 7ms/step - loss: 4.0878e-05\n",
            "Epoch 84/100\n",
            "112/112 [==============================] - 1s 7ms/step - loss: 4.1068e-05\n",
            "Epoch 85/100\n",
            "112/112 [==============================] - 1s 10ms/step - loss: 4.5624e-05\n",
            "Epoch 86/100\n",
            "112/112 [==============================] - 2s 15ms/step - loss: 4.5164e-05\n",
            "Epoch 87/100\n",
            "112/112 [==============================] - 2s 15ms/step - loss: 4.2808e-05\n",
            "Epoch 88/100\n",
            "112/112 [==============================] - 1s 8ms/step - loss: 4.4507e-05\n",
            "Epoch 89/100\n",
            "112/112 [==============================] - 1s 8ms/step - loss: 4.2434e-05\n",
            "Epoch 90/100\n",
            "112/112 [==============================] - 1s 8ms/step - loss: 5.4114e-05\n",
            "Epoch 91/100\n",
            "112/112 [==============================] - 1s 10ms/step - loss: 5.1283e-05\n",
            "Epoch 92/100\n",
            "112/112 [==============================] - 1s 11ms/step - loss: 4.5629e-05\n",
            "Epoch 93/100\n",
            "112/112 [==============================] - 1s 11ms/step - loss: 4.9051e-05\n",
            "Epoch 94/100\n",
            "112/112 [==============================] - 1s 9ms/step - loss: 3.9643e-05\n",
            "Epoch 95/100\n",
            "112/112 [==============================] - 1s 8ms/step - loss: 3.8173e-05\n",
            "Epoch 96/100\n",
            "112/112 [==============================] - 1s 8ms/step - loss: 5.5668e-05\n",
            "Epoch 97/100\n",
            "112/112 [==============================] - 1s 7ms/step - loss: 4.1308e-05\n",
            "Epoch 98/100\n",
            "112/112 [==============================] - 1s 7ms/step - loss: 4.6024e-05\n",
            "Epoch 99/100\n",
            "112/112 [==============================] - 1s 7ms/step - loss: 4.0933e-05\n",
            "Epoch 100/100\n",
            "112/112 [==============================] - 1s 7ms/step - loss: 4.4427e-05\n"
          ]
        },
        {
          "output_type": "execute_result",
          "data": {
            "text/plain": [
              "<keras.callbacks.History at 0x7f322da4f490>"
            ]
          },
          "metadata": {},
          "execution_count": 59
        }
      ]
    },
    {
      "cell_type": "code",
      "source": [
        "# Evaluate the model on the testing set\n",
        "mse = model.evaluate(X_test, Y_test)\n",
        "rmse = np.sqrt(mse)"
      ],
      "metadata": {
        "colab": {
          "base_uri": "https://localhost:8080/"
        },
        "id": "nZ4Ho27MvH9L",
        "outputId": "52eddad2-3a54-4c87-e87e-51aee5233932"
      },
      "execution_count": 60,
      "outputs": [
        {
          "output_type": "stream",
          "name": "stdout",
          "text": [
            "24/24 [==============================] - 1s 6ms/step - loss: 3840925.2500\n"
          ]
        }
      ]
    },
    {
      "cell_type": "code",
      "source": [
        "# Make predictions on future Google stock prices\n",
        "last_60_days = train_set[-60:]\n",
        "last_60_days_scaled = sc.transform(last_60_days)\n",
        "X_pred = np.array([last_60_days_scaled])\n",
        "X_pred = np.reshape(X_pred, (X_pred.shape[0], X_pred.shape[1], 1))\n",
        "pred_price = model.predict(X_pred)\n",
        "pred_price = sc.inverse_transform(pred_price)\n",
        "print(pred_price)"
      ],
      "metadata": {
        "colab": {
          "base_uri": "https://localhost:8080/"
        },
        "id": "WZjIjq7LvbiF",
        "outputId": "66eaf22c-6eff-43f6-920e-be35577d6723"
      },
      "execution_count": 61,
      "outputs": [
        {
          "output_type": "stream",
          "name": "stdout",
          "text": [
            "1/1 [==============================] - 1s 893ms/step\n",
            "[[1074.5933]]\n"
          ]
        }
      ]
    }
  ]
}